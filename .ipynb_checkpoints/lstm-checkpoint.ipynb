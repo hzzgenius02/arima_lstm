{
 "cells": [
  {
   "cell_type": "code",
   "execution_count": 2,
   "id": "9f21092e",
   "metadata": {},
   "outputs": [],
   "source": [
    "import tushare as ts\n",
    "pro = ts.pro_api('647f6840944a4425d46c97c08cf20af6b656bb79673bd1635ebdf0ce')\n",
    "import pandas as pd\n",
    "import matplotlib.pyplot as plt\n",
    "import warnings\n",
    "warnings.filterwarnings(\"ignore\")\n",
    "import itertools\n",
    "import numpy as np\n",
    "import seaborn as sns\n",
    "import statsmodels.api as sm\n",
    "import statsmodels.tsa.stattools as st\n",
    "from sklearn.metrics import *\n",
    "from scipy import  stats\n",
    "from statsmodels.graphics.api import qqplot"
   ]
  },
  {
   "cell_type": "markdown",
   "id": "f858352b",
   "metadata": {},
   "source": [
    "# 获取始末时间"
   ]
  },
  {
   "cell_type": "code",
   "execution_count": 25,
   "id": "afd2f440",
   "metadata": {},
   "outputs": [],
   "source": [
    "begin = '20220101'\n",
    "from datetime import datetime, date\n",
    "dayofWeek = datetime.today().weekday()\n",
    "import datetime\n",
    "today = datetime.date.today()\n",
    "if dayofWeek == 0:\n",
    "    end = (datetime.date.today() + datetime.timedelta(days=-3)).strftime('%Y%m%d')\n",
    "    end_ = (datetime.date.today() + datetime.timedelta(days=-3)).strftime('%Y-%m-%d')\n",
    "elif dayofWeek == 6:\n",
    "    end = (datetime.date.today() + datetime.timedelta(days=-2)).strftime('%Y%m%d')\n",
    "    end_ = (datetime.date.today() + datetime.timedelta(days=-2)).strftime('%Y-%m-%d')\n",
    "else:\n",
    "    end = (datetime.date.today() + datetime.timedelta(days=-1)).strftime('%Y%m%d')\n",
    "    end_ = (datetime.date.today() + datetime.timedelta(days=-1)).strftime('%Y-%m-%d')"
   ]
  },
  {
   "cell_type": "markdown",
   "id": "bc8c5288",
   "metadata": {},
   "source": [
    "# 获取这段时间里的股票价格"
   ]
  },
  {
   "cell_type": "code",
   "execution_count": 26,
   "id": "933cd49f",
   "metadata": {},
   "outputs": [],
   "source": [
    "data=pro.query('daily', ts_code='000681.SZ', start_date=begin, end_date=end) #放假期间股票停止交易\n",
    "df = pd.DataFrame(data)\n",
    "df.to_csv('SJZG000681.csv')"
   ]
  },
  {
   "cell_type": "code",
   "execution_count": 15,
   "id": "b06a5803",
   "metadata": {},
   "outputs": [],
   "source": [
    "Stock_XRHJ = pd.read_csv('SJZG000681.csv',index_col = 'trade_date',parse_dates=['trade_date'])\n",
    "df = pd.DataFrame(Stock_XRHJ)\n",
    "df=df.iloc[::-1]"
   ]
  },
  {
   "cell_type": "markdown",
   "id": "d0db5ca6",
   "metadata": {},
   "source": [
    "# 存储到列表"
   ]
  },
  {
   "cell_type": "code",
   "execution_count": 17,
   "id": "1f885458",
   "metadata": {},
   "outputs": [],
   "source": [
    "dataX=[]#属性\n",
    "dataY=[]#标签\n",
    "k=0\n",
    "tempX=[]#储存某个历史200天数据\n",
    "tempY=[]#储存某个未来10天数据\n",
    "for index, rows in df.iterrows():\n",
    "    if k<200:\n",
    "        k+=1\n",
    "        tempX.append([rows['close']])\n",
    "        continue\n",
    "    if k<210:\n",
    "        k+=1\n",
    "        tempY.append([rows['close']])\n",
    "        continue\n",
    "    dataX.append(tempX[:])\n",
    "    dataY.append(tempY[:])\n",
    " \n",
    "    tempX=tempX[1:]+tempY[:1]\n",
    " \n",
    "    tempY=tempY[1:]\n",
    "    tempY.append([rows['close']])\n",
    "dataX.append(tempX[:])#加上最后一项\n",
    "dataY.append(tempY[:])#加上最后一项"
   ]
  },
  {
   "cell_type": "markdown",
   "id": "a5c427bb",
   "metadata": {},
   "source": [
    "# 分割训练和测试数据集"
   ]
  },
  {
   "cell_type": "code",
   "execution_count": 49,
   "id": "5784e8f9",
   "metadata": {},
   "outputs": [],
   "source": [
    "import torch\n",
    "import torch.utils.data as Data\n",
    " \n",
    "dataX=torch.tensor(dataX)#列表转Tensor\n",
    "dataY=torch.tensor(dataY)#列表转Tensor\n",
    " \n",
    "dataset=Data.TensorDataset(dataX,dataY)\n",
    "train_size=int(0.8*len(dataset))\n",
    "test_size=len(dataset)-train_size\n",
    "train_dataset, test_dataset = torch.utils.data.random_split(dataset, [train_size, test_size])#以8:2比例划分训练集和测试集\n",
    " \n",
    "train_loader = Data.DataLoader(\n",
    "            dataset=train_dataset,\n",
    "            batch_size=64,\n",
    "            shuffle=True\n",
    "        )\n",
    "test_loader = Data.DataLoader(\n",
    "            dataset=test_dataset,\n",
    "            batch_size=64,\n",
    "            shuffle=True\n",
    "        )"
   ]
  },
  {
   "cell_type": "markdown",
   "id": "9a13a284",
   "metadata": {},
   "source": [
    "# 创建模型"
   ]
  },
  {
   "cell_type": "code",
   "execution_count": 63,
   "id": "bc50ba17",
   "metadata": {},
   "outputs": [],
   "source": [
    "from torch.nn import LSTM,Module,Linear\n",
    "class MyModel(Module):\n",
    "    def __init__(self):\n",
    "        super(MyModel,self).__init__()\n",
    "        self.lstm=LSTM(input_size=1,hidden_size=100,num_layers=2,batch_first=True)\n",
    "        self.linear=Linear(20000,10)#将结果映射到10天的数据\n",
    "    def forward(self,x):\n",
    "        return self.linear(self.lstm(x)[0].reshape(-1,20000))"
   ]
  },
  {
   "cell_type": "markdown",
   "id": "bd05986d",
   "metadata": {},
   "source": [
    "# 训练模型"
   ]
  },
  {
   "cell_type": "code",
   "execution_count": 70,
   "id": "932f3e32",
   "metadata": {},
   "outputs": [
    {
     "name": "stdout",
     "output_type": "stream",
     "text": [
      ">>> EPOCH1 averTrainLoss:200.903 averTestLoss:122.178\n",
      ">>> EPOCH2 averTrainLoss:95.365 averTestLoss:10.836\n",
      ">>> EPOCH3 averTrainLoss:21.266 averTestLoss:52.607\n",
      ">>> EPOCH4 averTrainLoss:39.024 averTestLoss:12.373\n",
      ">>> EPOCH5 averTrainLoss:7.398 averTestLoss:7.511\n",
      ">>> EPOCH6 averTrainLoss:10.157 averTestLoss:17.528\n",
      ">>> EPOCH7 averTrainLoss:18.999 averTestLoss:17.039\n",
      ">>> EPOCH8 averTrainLoss:16.742 averTestLoss:9.192\n",
      ">>> EPOCH9 averTrainLoss:7.995 averTestLoss:4.776\n",
      ">>> EPOCH10 averTrainLoss:5.228 averTestLoss:8.644\n",
      ">>> EPOCH11 averTrainLoss:9.257 averTestLoss:11.060\n",
      ">>> EPOCH12 averTrainLoss:9.385 averTestLoss:7.262\n",
      ">>> EPOCH13 averTrainLoss:5.912 averTestLoss:4.706\n",
      ">>> EPOCH14 averTrainLoss:5.278 averTestLoss:5.394\n",
      ">>> EPOCH15 averTrainLoss:5.935 averTestLoss:6.110\n",
      ">>> EPOCH16 averTrainLoss:6.329 averTestLoss:5.582\n",
      ">>> EPOCH17 averTrainLoss:5.902 averTestLoss:4.712\n",
      ">>> EPOCH18 averTrainLoss:4.718 averTestLoss:4.965\n",
      ">>> EPOCH19 averTrainLoss:4.598 averTestLoss:5.862\n",
      ">>> EPOCH20 averTrainLoss:5.704 averTestLoss:5.750\n",
      ">>> EPOCH21 averTrainLoss:5.210 averTestLoss:4.850\n",
      ">>> EPOCH22 averTrainLoss:4.719 averTestLoss:4.647\n",
      ">>> EPOCH23 averTrainLoss:4.937 averTestLoss:4.766\n",
      ">>> EPOCH24 averTrainLoss:4.532 averTestLoss:4.687\n",
      ">>> EPOCH25 averTrainLoss:4.799 averTestLoss:4.595\n",
      ">>> EPOCH26 averTrainLoss:4.585 averTestLoss:4.705\n",
      ">>> EPOCH27 averTrainLoss:4.700 averTestLoss:4.812\n",
      ">>> EPOCH28 averTrainLoss:4.643 averTestLoss:4.668\n",
      ">>> EPOCH29 averTrainLoss:4.590 averTestLoss:4.541\n",
      ">>> EPOCH30 averTrainLoss:4.529 averTestLoss:4.544\n",
      ">>> EPOCH31 averTrainLoss:4.716 averTestLoss:4.516\n",
      ">>> EPOCH32 averTrainLoss:4.499 averTestLoss:4.553\n",
      ">>> EPOCH33 averTrainLoss:4.608 averTestLoss:4.712\n",
      ">>> EPOCH34 averTrainLoss:4.829 averTestLoss:4.665\n",
      ">>> EPOCH35 averTrainLoss:4.439 averTestLoss:4.515\n",
      ">>> EPOCH36 averTrainLoss:4.603 averTestLoss:4.480\n",
      ">>> EPOCH37 averTrainLoss:4.659 averTestLoss:4.476\n",
      ">>> EPOCH38 averTrainLoss:4.645 averTestLoss:4.501\n",
      ">>> EPOCH39 averTrainLoss:4.275 averTestLoss:4.504\n",
      ">>> EPOCH40 averTrainLoss:4.404 averTestLoss:4.475\n",
      ">>> EPOCH41 averTrainLoss:4.455 averTestLoss:4.470\n",
      ">>> EPOCH42 averTrainLoss:4.339 averTestLoss:4.454\n",
      ">>> EPOCH43 averTrainLoss:4.274 averTestLoss:4.397\n",
      ">>> EPOCH44 averTrainLoss:4.185 averTestLoss:4.329\n",
      ">>> EPOCH45 averTrainLoss:4.269 averTestLoss:4.300\n",
      ">>> EPOCH46 averTrainLoss:4.019 averTestLoss:4.274\n",
      ">>> EPOCH47 averTrainLoss:4.480 averTestLoss:4.256\n",
      ">>> EPOCH48 averTrainLoss:4.223 averTestLoss:4.357\n",
      ">>> EPOCH49 averTrainLoss:4.364 averTestLoss:4.510\n",
      ">>> EPOCH50 averTrainLoss:4.207 averTestLoss:4.416\n",
      ">>> EPOCH51 averTrainLoss:4.129 averTestLoss:4.264\n",
      ">>> EPOCH52 averTrainLoss:4.151 averTestLoss:4.147\n",
      ">>> EPOCH53 averTrainLoss:3.917 averTestLoss:4.106\n",
      ">>> EPOCH54 averTrainLoss:4.061 averTestLoss:4.061\n",
      ">>> EPOCH55 averTrainLoss:3.942 averTestLoss:3.997\n",
      ">>> EPOCH56 averTrainLoss:3.887 averTestLoss:3.928\n",
      ">>> EPOCH57 averTrainLoss:4.072 averTestLoss:3.859\n",
      ">>> EPOCH58 averTrainLoss:3.819 averTestLoss:3.812\n",
      ">>> EPOCH59 averTrainLoss:3.920 averTestLoss:3.758\n",
      ">>> EPOCH60 averTrainLoss:3.728 averTestLoss:3.645\n",
      ">>> EPOCH61 averTrainLoss:3.659 averTestLoss:3.501\n",
      ">>> EPOCH62 averTrainLoss:3.396 averTestLoss:3.334\n",
      ">>> EPOCH63 averTrainLoss:3.245 averTestLoss:3.072\n",
      ">>> EPOCH64 averTrainLoss:2.991 averTestLoss:2.724\n",
      ">>> EPOCH65 averTrainLoss:2.614 averTestLoss:2.164\n",
      ">>> EPOCH66 averTrainLoss:1.995 averTestLoss:1.622\n",
      ">>> EPOCH67 averTrainLoss:1.651 averTestLoss:1.377\n",
      ">>> EPOCH68 averTrainLoss:1.438 averTestLoss:1.821\n",
      ">>> EPOCH69 averTrainLoss:1.734 averTestLoss:1.700\n",
      ">>> EPOCH70 averTrainLoss:1.349 averTestLoss:1.580\n",
      ">>> EPOCH71 averTrainLoss:1.409 averTestLoss:1.430\n",
      ">>> EPOCH72 averTrainLoss:1.407 averTestLoss:1.326\n",
      ">>> EPOCH73 averTrainLoss:1.213 averTestLoss:1.212\n",
      ">>> EPOCH74 averTrainLoss:1.197 averTestLoss:1.273\n",
      ">>> EPOCH75 averTrainLoss:1.128 averTestLoss:1.217\n",
      ">>> EPOCH76 averTrainLoss:1.157 averTestLoss:1.222\n",
      ">>> EPOCH77 averTrainLoss:1.103 averTestLoss:1.265\n",
      ">>> EPOCH78 averTrainLoss:1.026 averTestLoss:1.252\n",
      ">>> EPOCH79 averTrainLoss:1.024 averTestLoss:1.232\n",
      ">>> EPOCH80 averTrainLoss:0.970 averTestLoss:1.190\n",
      ">>> EPOCH81 averTrainLoss:0.887 averTestLoss:1.183\n",
      ">>> EPOCH82 averTrainLoss:0.860 averTestLoss:1.137\n",
      ">>> EPOCH83 averTrainLoss:0.818 averTestLoss:1.149\n",
      ">>> EPOCH84 averTrainLoss:0.888 averTestLoss:1.133\n",
      ">>> EPOCH85 averTrainLoss:0.855 averTestLoss:1.136\n",
      ">>> EPOCH86 averTrainLoss:0.826 averTestLoss:1.184\n",
      ">>> EPOCH87 averTrainLoss:0.946 averTestLoss:1.080\n",
      ">>> EPOCH88 averTrainLoss:0.848 averTestLoss:1.061\n",
      ">>> EPOCH89 averTrainLoss:0.832 averTestLoss:1.165\n",
      ">>> EPOCH90 averTrainLoss:0.827 averTestLoss:1.047\n",
      ">>> EPOCH91 averTrainLoss:0.921 averTestLoss:1.043\n",
      ">>> EPOCH92 averTrainLoss:0.730 averTestLoss:1.132\n",
      ">>> EPOCH93 averTrainLoss:0.874 averTestLoss:1.036\n",
      ">>> EPOCH94 averTrainLoss:0.762 averTestLoss:1.025\n",
      ">>> EPOCH95 averTrainLoss:0.682 averTestLoss:1.071\n",
      ">>> EPOCH96 averTrainLoss:0.852 averTestLoss:1.070\n",
      ">>> EPOCH97 averTrainLoss:0.752 averTestLoss:1.050\n",
      ">>> EPOCH98 averTrainLoss:0.722 averTestLoss:1.035\n",
      ">>> EPOCH99 averTrainLoss:0.742 averTestLoss:1.063\n",
      ">>> EPOCH100 averTrainLoss:0.672 averTestLoss:1.053\n"
     ]
    }
   ],
   "source": [
    "import torch.nn.functional as F\n",
    "model=MyModel()\n",
    "optimizer = torch.optim.Adam(model.parameters(), lr=0.001)\n",
    "lossList=[]#记录训练loss\n",
    "lossListTest=[]#记录测试loss\n",
    "for epoch in range(100):\n",
    "    loss_nowEpoch=[]\n",
    "    model.train()\n",
    "    for step, (batch_x, batch_y) in enumerate(train_loader):\n",
    "        out=model(batch_x)#模型输入\n",
    "        Loss = F.mse_loss(out,batch_y.view(-1,10))#loss计算，将batch_y从(64,10,1)变形为(64,10)\n",
    "        optimizer.zero_grad()#当前batch的梯度不会再用到，所以清除梯度\n",
    "        Loss.backward()#反向传播计算梯度\n",
    "        optimizer.step()#更新参数\n",
    "        loss_nowEpoch.append(Loss.item())\n",
    "        \n",
    "    lossList.append(sum(loss_nowEpoch)/len(loss_nowEpoch))\n",
    " \n",
    "    loss_nowEpochTest = []\n",
    "    model.eval()\n",
    "    for step, (batch_x, batch_y) in enumerate(test_loader):\n",
    "        out = model(batch_x)\n",
    "        Loss = F.mse_loss(out, batch_y.view(-1,10))  # 将batch_y从(64,10,1)变形为(64,10)\n",
    "        loss_nowEpochTest.append(Loss.item())\n",
    "        break\n",
    "    lossListTest.append(sum(loss_nowEpochTest)/len(loss_nowEpochTest))\n",
    " \n",
    "    print(\">>> EPOCH{} averTrainLoss:{:.3f} averTestLoss:{:.3f}\".format(epoch+1, lossList[-1],lossListTest[-1]))"
   ]
  },
  {
   "cell_type": "markdown",
   "id": "afbb4fac",
   "metadata": {},
   "source": [
    "# 绘制损失函数"
   ]
  },
  {
   "cell_type": "code",
   "execution_count": 72,
   "id": "c23885ff",
   "metadata": {},
   "outputs": [
    {
     "data": {
      "image/png": "[encoded data removed]",
      "text/plain": [
       "<Figure size 640x480 with 1 Axes>"
      ]
     },
     "metadata": {},
     "output_type": "display_data"
    }
   ],
   "source": [
    "import matplotlib.pyplot as plt\n",
    "plt.plot(list(range(100)),lossList,label='Train')\n",
    "plt.plot(list(range(100)),lossListTest,label='Test')\n",
    "plt.legend()\n",
    "plt.xlabel('epoch')\n",
    "plt.ylabel('loss')\n",
    "plt.show()"
   ]
  },
  {
   "cell_type": "markdown",
   "id": "8fcaf2ab",
   "metadata": {},
   "source": [
    "# 预测之后10天的股票价格"
   ]
  },
  {
   "cell_type": "code",
   "execution_count": 80,
   "id": "9cc0c611",
   "metadata": {},
   "outputs": [
    {
     "data": {
      "text/plain": [
       "[18.890750885009766,\n",
       " 18.569578170776367,\n",
       " 18.513713836669922,\n",
       " 18.8172607421875,\n",
       " 18.964237213134766,\n",
       " 19.086776733398438,\n",
       " 19.02040672302246,\n",
       " 18.66912078857422,\n",
       " 18.524311065673828,\n",
       " 18.570632934570312]"
      ]
     },
     "execution_count": 80,
     "metadata": {},
     "output_type": "execute_result"
    }
   ],
   "source": [
    "import pandas as pd\n",
    "X=torch.tensor(df['close'][-200:].to_numpy().copy()).reshape(-1,1)\n",
    "Y=model(X.view(1,200,1).float()).reshape(-1,1)\n",
    "\n",
    "# result=pd.DataFrame(torch.vstack((X,Y)).detach().numpy())\n",
    "Y.detach().flatten().tolist()"
   ]
  },
  {
   "cell_type": "code",
   "execution_count": null,
   "id": "1c246b2f",
   "metadata": {},
   "outputs": [],
   "source": []
  }
 ],
 "metadata": {
  "kernelspec": {
   "display_name": "Python 3",
   "language": "python",
   "name": "python3"
  },
  "language_info": {
   "codemirror_mode": {
    "name": "ipython",
    "version": 3
   },
   "file_extension": ".py",
   "mimetype": "text/x-python",
   "name": "python",
   "nbconvert_exporter": "python",
   "pygments_lexer": "ipython3",
   "version": "3.7.0"
  },
  "toc": {
   "base_numbering": 1,
   "nav_menu": {},
   "number_sections": true,
   "sideBar": true,
   "skip_h1_title": false,
   "title_cell": "Table of Contents",
   "title_sidebar": "Contents",
   "toc_cell": false,
   "toc_position": {},
   "toc_section_display": true,
   "toc_window_display": false
  },
  "varInspector": {
   "cols": {
    "lenName": 16,
    "lenType": 16,
    "lenVar": 40
   },
   "kernels_config": {
    "python": {
     "delete_cmd_postfix": "",
     "delete_cmd_prefix": "del ",
     "library": "var_list.py",
     "varRefreshCmd": "print(var_dic_list())"
    },
    "r": {
     "delete_cmd_postfix": ") ",
     "delete_cmd_prefix": "rm(",
     "library": "var_list.r",
     "varRefreshCmd": "cat(var_dic_list()) "
    }
   },
   "types_to_exclude": [
    "module",
    "function",
    "builtin_function_or_method",
    "instance",
    "_Feature"
   ],
   "window_display": false
  }
 },
 "nbformat": 4,
 "nbformat_minor": 5
}
